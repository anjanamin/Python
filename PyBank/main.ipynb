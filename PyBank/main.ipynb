{
 "cells": [
  {
   "cell_type": "code",
   "execution_count": 68,
   "id": "0154ed9a-7cb3-4fd4-b34d-d78cb527fb00",
   "metadata": {},
   "outputs": [],
   "source": [
    "#Import Pandas and Path\n",
    "import pandas as pd\n",
    "from pathlib import Path\n",
    "import csv"
   ]
  },
  {
   "cell_type": "code",
   "execution_count": 69,
   "id": "79b1bccb-31dd-4683-a721-0a388790222e",
   "metadata": {},
   "outputs": [
    {
     "data": {
      "text/plain": [
       "'C:\\\\Users\\\\anjan\\\\onedrive\\\\desktop\\\\fintech\\\\python-homework\\\\PyBank'"
      ]
     },
     "execution_count": 69,
     "metadata": {},
     "output_type": "execute_result"
    }
   ],
   "source": [
    "pwd"
   ]
  },
  {
   "cell_type": "code",
   "execution_count": 70,
   "id": "be57d152-ad0d-4def-8096-a5eab8f74283",
   "metadata": {},
   "outputs": [
    {
     "data": {
      "text/html": [
       "<div>\n",
       "<style scoped>\n",
       "    .dataframe tbody tr th:only-of-type {\n",
       "        vertical-align: middle;\n",
       "    }\n",
       "\n",
       "    .dataframe tbody tr th {\n",
       "        vertical-align: top;\n",
       "    }\n",
       "\n",
       "    .dataframe thead th {\n",
       "        text-align: right;\n",
       "    }\n",
       "</style>\n",
       "<table border=\"1\" class=\"dataframe\">\n",
       "  <thead>\n",
       "    <tr style=\"text-align: right;\">\n",
       "      <th></th>\n",
       "      <th>Date</th>\n",
       "      <th>Profit/Losses</th>\n",
       "    </tr>\n",
       "  </thead>\n",
       "  <tbody>\n",
       "    <tr>\n",
       "      <th>0</th>\n",
       "      <td>Jan-2010</td>\n",
       "      <td>867884</td>\n",
       "    </tr>\n",
       "    <tr>\n",
       "      <th>1</th>\n",
       "      <td>Feb-2010</td>\n",
       "      <td>984655</td>\n",
       "    </tr>\n",
       "    <tr>\n",
       "      <th>2</th>\n",
       "      <td>Mar-2010</td>\n",
       "      <td>322013</td>\n",
       "    </tr>\n",
       "    <tr>\n",
       "      <th>3</th>\n",
       "      <td>Apr-2010</td>\n",
       "      <td>-69417</td>\n",
       "    </tr>\n",
       "    <tr>\n",
       "      <th>4</th>\n",
       "      <td>May-2010</td>\n",
       "      <td>310503</td>\n",
       "    </tr>\n",
       "  </tbody>\n",
       "</table>\n",
       "</div>"
      ],
      "text/plain": [
       "       Date  Profit/Losses\n",
       "0  Jan-2010         867884\n",
       "1  Feb-2010         984655\n",
       "2  Mar-2010         322013\n",
       "3  Apr-2010         -69417\n",
       "4  May-2010         310503"
      ]
     },
     "execution_count": 70,
     "metadata": {},
     "output_type": "execute_result"
    }
   ],
   "source": [
    "#Read csv data\n",
    "csvpath = Path(\"budget_data.csv\")\n",
    "budget = pd.read_csv(csvpath)\n",
    "budget.head()"
   ]
  },
  {
   "cell_type": "code",
   "execution_count": 71,
   "id": "1cdd1920-98a8-45c9-8a37-61bfd05fe554",
   "metadata": {},
   "outputs": [],
   "source": [
    "#Initiate variables\n",
    "total_months = 0\n",
    "net_pnl = 0\n",
    "avg_pnl = 0\n",
    "greatest_increase = 0\n",
    "greatest_decrease = 0"
   ]
  },
  {
   "cell_type": "code",
   "execution_count": 72,
   "id": "63ca58d0-3453-41cd-868a-76ef2e0443a1",
   "metadata": {},
   "outputs": [
    {
     "name": "stdout",
     "output_type": "stream",
     "text": [
      "Total Months: 86\n"
     ]
    }
   ],
   "source": [
    "#Total number of months using count function\n",
    "total_months = budget[\"Date\"].count()\n",
    "print(f\"Total Months: {total_months}\")"
   ]
  },
  {
   "cell_type": "code",
   "execution_count": 73,
   "id": "00e5698e-172d-48f9-9de7-d8a763ba2e43",
   "metadata": {},
   "outputs": [
    {
     "name": "stdout",
     "output_type": "stream",
     "text": [
      "Total: $38382578\n"
     ]
    }
   ],
   "source": [
    "#Net Profit/Losses using sum function\n",
    "net_pnl = budget[\"Profit/Losses\"].sum()\n",
    "print(f\"Total: ${net_pnl}\")"
   ]
  },
  {
   "cell_type": "code",
   "execution_count": 74,
   "id": "937e473b-da1a-4283-a8b7-be0283861b24",
   "metadata": {},
   "outputs": [
    {
     "name": "stdout",
     "output_type": "stream",
     "text": [
      "Average Change: $-2315.12\n"
     ]
    }
   ],
   "source": [
    "#Average change in Profit/Losses using mean function\n",
    "change_row = budget[\"Profit/Losses\"].diff()\n",
    "avg_change = round(change_row.mean(),2)\n",
    "print(f\"Average Change: ${avg_change}\")"
   ]
  },
  {
   "cell_type": "code",
   "execution_count": 75,
   "id": "320c9201-1653-4867-bcc8-462e8d08a67b",
   "metadata": {},
   "outputs": [],
   "source": [
    "#Insert column for change\n",
    "budget.insert(2,\"change\",change_row)"
   ]
  },
  {
   "cell_type": "code",
   "execution_count": 76,
   "id": "4e6b53ae-3b60-416e-b4b2-46fc09e402b3",
   "metadata": {},
   "outputs": [
    {
     "name": "stdout",
     "output_type": "stream",
     "text": [
      "Greatest Increase in Profits: 1926159.0\n"
     ]
    }
   ],
   "source": [
    "#Greatest increase\n",
    "greatest_increase = budget['change'].max()\n",
    "print(f\"Greatest Increase in Profits: {greatest_increase}\")"
   ]
  },
  {
   "cell_type": "code",
   "execution_count": 77,
   "id": "71cc361b-2b28-49f8-a50d-b475b5180ce2",
   "metadata": {},
   "outputs": [
    {
     "data": {
      "text/html": [
       "<div>\n",
       "<style scoped>\n",
       "    .dataframe tbody tr th:only-of-type {\n",
       "        vertical-align: middle;\n",
       "    }\n",
       "\n",
       "    .dataframe tbody tr th {\n",
       "        vertical-align: top;\n",
       "    }\n",
       "\n",
       "    .dataframe thead th {\n",
       "        text-align: right;\n",
       "    }\n",
       "</style>\n",
       "<table border=\"1\" class=\"dataframe\">\n",
       "  <thead>\n",
       "    <tr style=\"text-align: right;\">\n",
       "      <th></th>\n",
       "      <th>Date</th>\n",
       "      <th>Profit/Losses</th>\n",
       "      <th>change</th>\n",
       "    </tr>\n",
       "  </thead>\n",
       "  <tbody>\n",
       "    <tr>\n",
       "      <th>25</th>\n",
       "      <td>Feb-2012</td>\n",
       "      <td>1170593</td>\n",
       "      <td>1926159.0</td>\n",
       "    </tr>\n",
       "  </tbody>\n",
       "</table>\n",
       "</div>"
      ],
      "text/plain": [
       "        Date  Profit/Losses     change\n",
       "25  Feb-2012        1170593  1926159.0"
      ]
     },
     "execution_count": 77,
     "metadata": {},
     "output_type": "execute_result"
    }
   ],
   "source": [
    "#Locate greatest increase month\n",
    "budget.loc[(budget[\"change\"] == 1926159.0)]"
   ]
  },
  {
   "cell_type": "code",
   "execution_count": 78,
   "id": "210db9c1-cf6a-41dc-b2ec-2a76b803170f",
   "metadata": {},
   "outputs": [
    {
     "name": "stdout",
     "output_type": "stream",
     "text": [
      "Month with Greatest Increase: Feb-2012\n"
     ]
    }
   ],
   "source": [
    "#Isolate greatest increase month\n",
    "greatest_increase_month = budget[\"Date\"]\n",
    "print(f\"Month with Greatest Increase: {greatest_increase_month[25]}\")"
   ]
  },
  {
   "cell_type": "code",
   "execution_count": 79,
   "id": "c818a2d6-887b-431c-ab3a-15a689e2ce77",
   "metadata": {},
   "outputs": [
    {
     "name": "stdout",
     "output_type": "stream",
     "text": [
      "Greatest Decrease in Profits: -2196167.0\n"
     ]
    }
   ],
   "source": [
    "#Greatest decrease\n",
    "greatest_decrease = budget[\"change\"].min()\n",
    "print(f\"Greatest Decrease in Profits: {greatest_decrease}\")"
   ]
  },
  {
   "cell_type": "code",
   "execution_count": 80,
   "id": "6df4963a-e68f-47f1-96d6-42aa5473a908",
   "metadata": {},
   "outputs": [
    {
     "data": {
      "text/html": [
       "<div>\n",
       "<style scoped>\n",
       "    .dataframe tbody tr th:only-of-type {\n",
       "        vertical-align: middle;\n",
       "    }\n",
       "\n",
       "    .dataframe tbody tr th {\n",
       "        vertical-align: top;\n",
       "    }\n",
       "\n",
       "    .dataframe thead th {\n",
       "        text-align: right;\n",
       "    }\n",
       "</style>\n",
       "<table border=\"1\" class=\"dataframe\">\n",
       "  <thead>\n",
       "    <tr style=\"text-align: right;\">\n",
       "      <th></th>\n",
       "      <th>Date</th>\n",
       "      <th>Profit/Losses</th>\n",
       "      <th>change</th>\n",
       "    </tr>\n",
       "  </thead>\n",
       "  <tbody>\n",
       "    <tr>\n",
       "      <th>44</th>\n",
       "      <td>Sep-2013</td>\n",
       "      <td>-1196225</td>\n",
       "      <td>-2196167.0</td>\n",
       "    </tr>\n",
       "  </tbody>\n",
       "</table>\n",
       "</div>"
      ],
      "text/plain": [
       "        Date  Profit/Losses     change\n",
       "44  Sep-2013       -1196225 -2196167.0"
      ]
     },
     "execution_count": 80,
     "metadata": {},
     "output_type": "execute_result"
    }
   ],
   "source": [
    "#Locate greatest decrease month\n",
    "budget.loc[(budget[\"change\"] == -2196167.0)]"
   ]
  },
  {
   "cell_type": "code",
   "execution_count": 81,
   "id": "32849b10-457d-45e5-8eac-bfab5dd8e644",
   "metadata": {},
   "outputs": [
    {
     "name": "stdout",
     "output_type": "stream",
     "text": [
      "Month with Greatest Decrease: Sep-2013\n"
     ]
    }
   ],
   "source": [
    "#Isolate greatest decrease month\n",
    "greatest_decrease_month = budget[\"Date\"]\n",
    "print(f\"Month with Greatest Decrease: {greatest_decrease_month[44]}\")"
   ]
  },
  {
   "cell_type": "code",
   "execution_count": 100,
   "id": "f9c07ee7-7a10-42cc-882a-d89f6494349c",
   "metadata": {},
   "outputs": [
    {
     "name": "stdout",
     "output_type": "stream",
     "text": [
      "Financial Analysis\n",
      "----------------------------\n",
      "Total Months: 86\n",
      "Total: $38382578\n",
      "Average Change: $-2315.12\n",
      "Greatest Increase in Profits: Feb-2012 ($1926159.0\n",
      "Greastest Decrease in Profits: Sep-2013 ($-2196167.0\n"
     ]
    }
   ],
   "source": [
    "#Results for Financial Analysis\n",
    "print(\"Financial Analysis\")\n",
    "print(\"----------------------------\")\n",
    "print(f\"Total Months: {total_months}\")\n",
    "print(f\"Total: ${net_pnl}\")\n",
    "print(f\"Average Change: ${avg_change}\")\n",
    "print(f\"Greatest Increase in Profits: {greatest_increase_month[25]} (${greatest_increase}\")\n",
    "print(f\"Greastest Decrease in Profits: {greatest_decrease_month[44]} (${greatest_decrease}\")"
   ]
  },
  {
   "cell_type": "code",
   "execution_count": 109,
   "id": "0cc88044-29d6-4c0b-b021-ed159d31322c",
   "metadata": {},
   "outputs": [],
   "source": [
    "#Set Path for output file\n",
    "output = Path(\"output.txt\")\n",
    "f = open(\"output.txt\", \"w\")"
   ]
  },
  {
   "cell_type": "code",
   "execution_count": 110,
   "id": "d0e4a5bd-64dd-42a0-acb9-07dcf5768b26",
   "metadata": {},
   "outputs": [],
   "source": [
    "#Write Financial Analysis to output file\n",
    "f.write(\"Financial Analysis \\n\")\n",
    "f.write(\"---------------------------- \\n\")\n",
    "f.write(f\"Total Months: {total_months} \\n\")\n",
    "f.write(f\"Total: ${net_pnl} \\n\")\n",
    "f.write(f\"Average Change: ${avg_change} \\n\")\n",
    "f.write(f\"Greatest Increase in Profits: {greatest_increase_month[25]} (${greatest_increase}) \\n\")\n",
    "f.write(f\"Greastest Decrease in Profits: {greatest_decrease_month[44]} (${greatest_decrease}) \\n\")\n",
    "f.close()"
   ]
  },
  {
   "cell_type": "code",
   "execution_count": null,
   "id": "4a040ec1-63f7-47a6-821d-b1174b344b26",
   "metadata": {},
   "outputs": [],
   "source": []
  }
 ],
 "metadata": {
  "kernelspec": {
   "display_name": "Python 3 (ipykernel)",
   "language": "python",
   "name": "python3"
  },
  "language_info": {
   "codemirror_mode": {
    "name": "ipython",
    "version": 3
   },
   "file_extension": ".py",
   "mimetype": "text/x-python",
   "name": "python",
   "nbconvert_exporter": "python",
   "pygments_lexer": "ipython3",
   "version": "3.8.8"
  }
 },
 "nbformat": 4,
 "nbformat_minor": 5
}
